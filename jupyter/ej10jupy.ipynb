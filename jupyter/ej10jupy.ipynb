{
 "cells": [
  {
   "cell_type": "markdown",
   "metadata": {},
   "source": [
    "# Ejercicio 10"
   ]
  },
  {
   "cell_type": "markdown",
   "metadata": {},
   "source": [
    "Julian Order\n",
    "\n",
    "#### Enunciado:\n",
    "Trabajando con los contenidos de los archivos que pueden acceder en el curso: nombres, eval1 y eval2\n",
    "\n",
    "Manipule estos archivos para realizar lo siguiente:\n",
    "\n",
    "• Generar una estructura con los nombres de los estudiantes y la suma de ambas notas.\n",
    "\n",
    "• Calcular el promedio de las notas totales e informar que alumnos obtuvieron menos que el promedio.\n"
   ]
  },
  {
   "cell_type": "markdown",
   "metadata": {},
   "source": [
    "##### Abro los archivos y los combierto en listas"
   ]
  },
  {
   "cell_type": "code",
   "execution_count": 1,
   "metadata": {},
   "outputs": [],
   "source": [
    "nombres = list(open(r'nombres_1.txt',mode=\"r\",encoding='utf-8'))\n",
    "eval1 = list(open(r'eval1.txt',mode=\"r\",encoding='utf-8')) \n",
    "eval2 = list(open(r'eval2.txt',mode=\"r\",encoding='utf-8'))\n"
   ]
  },
  {
   "cell_type": "markdown",
   "metadata": {},
   "source": [
    "##### Elimino todo caracter innecesario "
   ]
  },
  {
   "cell_type": "code",
   "execution_count": 2,
   "metadata": {},
   "outputs": [],
   "source": [
    "def Dejar_Datos(lista):\n",
    "    aux = []\n",
    "    for char in lista:\n",
    "        char = char.replace(',',\"\").replace(\"'\", \"\").replace(\"\\n\", \"\")\n",
    "        aux.append(char)\n",
    "    return aux\n"
   ]
  },
  {
   "cell_type": "markdown",
   "metadata": {},
   "source": [
    "##### Creo una lista de tuplas uniendo los campos"
   ]
  },
  {
   "cell_type": "code",
   "execution_count": 3,
   "metadata": {},
   "outputs": [],
   "source": [
    "def Notas_Totales (lis_n, eval1, eval2):\n",
    "    i = 0\n",
    "    lista = []\n",
    "    for nombre in lis_n:\n",
    "        lista.append((nombre, int(eval1[i])+int(eval2[i])))\n",
    "        i += 1\n",
    "    return lista"
   ]
  },
  {
   "cell_type": "markdown",
   "metadata": {},
   "source": [
    "##### Saco el promedio de las notas para informar a los que tienen una nota por debajo del promedio"
   ]
  },
  {
   "cell_type": "code",
   "execution_count": 4,
   "metadata": {},
   "outputs": [],
   "source": [
    "def Promedio(notas):\n",
    "    total = 0\n",
    "    for n in notas:\n",
    "        total += n[1]\n",
    "    prom = total/len(notas)\n",
    "    for n in notas:\n",
    "        if n[1] < prom:\n",
    "            print(f\"{n[0]} Tiene una nota por debajo del promedio\")"
   ]
  },
  {
   "cell_type": "markdown",
   "metadata": {},
   "source": [
    "##### Utilizo \"Dejar_Datos\" para unicamente dejar los nombres, eliminando todo caracter inecesario\n"
   ]
  },
  {
   "cell_type": "code",
   "execution_count": 5,
   "metadata": {},
   "outputs": [],
   "source": [
    "nom = Dejar_Datos(nombres)\n",
    "evaluacion1 = Dejar_Datos(eval1)\n",
    "evaluacion2 = Dejar_Datos(eval2)"
   ]
  },
  {
   "cell_type": "markdown",
   "metadata": {},
   "source": [
    "##### Me guardo una lista de estudiantes con sus datos y luego calculo los promedios, para imprimir a los alumnos con notas por debajo del promedia\n"
   ]
  },
  {
   "cell_type": "code",
   "execution_count": 6,
   "metadata": {},
   "outputs": [
    {
     "name": "stdout",
     "output_type": "stream",
     "text": [
      " CESAR Tiene una nota por debajo del promedio\n",
      " Diego Tiene una nota por debajo del promedio\n",
      " Dolores Tiene una nota por debajo del promedio\n",
      " DYLAN Tiene una nota por debajo del promedio\n",
      " ELIANA Tiene una nota por debajo del promedio\n",
      " Emanuel Tiene una nota por debajo del promedio\n",
      " GONZALO Tiene una nota por debajo del promedio\n",
      " Gregorio Tiene una nota por debajo del promedio\n",
      " Ignacio Tiene una nota por debajo del promedio\n",
      " Jonathan Tiene una nota por debajo del promedio\n",
      " Jorge Tiene una nota por debajo del promedio\n",
      " JUAN Tiene una nota por debajo del promedio\n",
      " Julian Tiene una nota por debajo del promedio\n",
      " Leonel Tiene una nota por debajo del promedio\n",
      " Nicolás Tiene una nota por debajo del promedio\n",
      " NICOLÁS Tiene una nota por debajo del promedio\n",
      " Priscila Tiene una nota por debajo del promedio\n",
      " Yanina Tiene una nota por debajo del promedio\n"
     ]
    }
   ],
   "source": [
    "prom = Notas_Totales(nom,evaluacion1,evaluacion2)\n",
    "promedio = Promedio(prom)\n",
    "\n",
    "#Imprimo los estudiantes que tienen notas por debajo del promedio\n"
   ]
  }
 ],
 "metadata": {
  "interpreter": {
   "hash": "a918a20b2bef368762c9213cc7eb45e2d543af5cbbeda17fe11777d1e9368527"
  },
  "kernelspec": {
   "display_name": "Python 3.10.3 64-bit",
   "language": "python",
   "name": "python3"
  },
  "language_info": {
   "codemirror_mode": {
    "name": "ipython",
    "version": 3
   },
   "file_extension": ".py",
   "mimetype": "text/x-python",
   "name": "python",
   "nbconvert_exporter": "python",
   "pygments_lexer": "ipython3",
   "version": "3.10.3"
  },
  "orig_nbformat": 4
 },
 "nbformat": 4,
 "nbformat_minor": 2
}
